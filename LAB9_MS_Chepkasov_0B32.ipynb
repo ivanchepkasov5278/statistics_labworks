{
  "nbformat": 4,
  "nbformat_minor": 0,
  "metadata": {
    "colab": {
      "provenance": []
    },
    "kernelspec": {
      "name": "python3",
      "display_name": "Python 3"
    },
    "language_info": {
      "name": "python"
    }
  },
  "cells": [
    {
      "cell_type": "code",
      "execution_count": null,
      "metadata": {
        "id": "RdinO4TYiRzl"
      },
      "outputs": [],
      "source": [
        "import pandas as pd\n",
        "import numpy as np\n",
        "import matplotlib.pyplot as plt\n",
        "from scipy.stats import norm"
      ]
    },
    {
      "cell_type": "code",
      "source": [
        "# Считывание данных из файла\n",
        "df = pd.read_csv('data.csv', decimal=',')\n",
        "df.drop('A', axis=1, inplace=True)\n",
        "df = df.sort_values(by='B').reset_index(drop=True)\n",
        "B = df['B'].to_numpy()\n",
        "Y = df['response'].to_numpy() # матрица наблбдаемых значений отклика\n",
        "df"
      ],
      "metadata": {
        "colab": {
          "base_uri": "https://localhost:8080/",
          "height": 896
        },
        "id": "cTyWifIfijIf",
        "outputId": "47e349ff-701c-40bf-ac35-58e4224a7948"
      },
      "execution_count": null,
      "outputs": [
        {
          "output_type": "execute_result",
          "data": {
            "text/plain": [
              "    B  response\n",
              "0   1      0.77\n",
              "1   1      2.10\n",
              "2   1      2.22\n",
              "3   1      0.95\n",
              "4   1      2.85\n",
              "5   1      4.00\n",
              "6   1      3.21\n",
              "7   1      0.47\n",
              "8   1      3.75\n",
              "9   2      2.37\n",
              "10  2      6.00\n",
              "11  2      0.45\n",
              "12  2      0.87\n",
              "13  2      0.45\n",
              "14  2     -0.97\n",
              "15  2      5.32\n",
              "16  3      0.51\n",
              "17  3     -1.29\n",
              "18  3      0.23\n",
              "19  3     -3.41\n",
              "20  3     -1.54\n",
              "21  3     -2.08\n",
              "22  3      1.32\n",
              "23  3      1.79\n",
              "24  3     -1.82\n",
              "25  3      1.36\n",
              "26  3      0.96"
            ],
            "text/html": [
              "\n",
              "  <div id=\"df-8eb05d22-9e56-499a-96a6-3d72dce18348\" class=\"colab-df-container\">\n",
              "    <div>\n",
              "<style scoped>\n",
              "    .dataframe tbody tr th:only-of-type {\n",
              "        vertical-align: middle;\n",
              "    }\n",
              "\n",
              "    .dataframe tbody tr th {\n",
              "        vertical-align: top;\n",
              "    }\n",
              "\n",
              "    .dataframe thead th {\n",
              "        text-align: right;\n",
              "    }\n",
              "</style>\n",
              "<table border=\"1\" class=\"dataframe\">\n",
              "  <thead>\n",
              "    <tr style=\"text-align: right;\">\n",
              "      <th></th>\n",
              "      <th>B</th>\n",
              "      <th>response</th>\n",
              "    </tr>\n",
              "  </thead>\n",
              "  <tbody>\n",
              "    <tr>\n",
              "      <th>0</th>\n",
              "      <td>1</td>\n",
              "      <td>0.77</td>\n",
              "    </tr>\n",
              "    <tr>\n",
              "      <th>1</th>\n",
              "      <td>1</td>\n",
              "      <td>2.10</td>\n",
              "    </tr>\n",
              "    <tr>\n",
              "      <th>2</th>\n",
              "      <td>1</td>\n",
              "      <td>2.22</td>\n",
              "    </tr>\n",
              "    <tr>\n",
              "      <th>3</th>\n",
              "      <td>1</td>\n",
              "      <td>0.95</td>\n",
              "    </tr>\n",
              "    <tr>\n",
              "      <th>4</th>\n",
              "      <td>1</td>\n",
              "      <td>2.85</td>\n",
              "    </tr>\n",
              "    <tr>\n",
              "      <th>5</th>\n",
              "      <td>1</td>\n",
              "      <td>4.00</td>\n",
              "    </tr>\n",
              "    <tr>\n",
              "      <th>6</th>\n",
              "      <td>1</td>\n",
              "      <td>3.21</td>\n",
              "    </tr>\n",
              "    <tr>\n",
              "      <th>7</th>\n",
              "      <td>1</td>\n",
              "      <td>0.47</td>\n",
              "    </tr>\n",
              "    <tr>\n",
              "      <th>8</th>\n",
              "      <td>1</td>\n",
              "      <td>3.75</td>\n",
              "    </tr>\n",
              "    <tr>\n",
              "      <th>9</th>\n",
              "      <td>2</td>\n",
              "      <td>2.37</td>\n",
              "    </tr>\n",
              "    <tr>\n",
              "      <th>10</th>\n",
              "      <td>2</td>\n",
              "      <td>6.00</td>\n",
              "    </tr>\n",
              "    <tr>\n",
              "      <th>11</th>\n",
              "      <td>2</td>\n",
              "      <td>0.45</td>\n",
              "    </tr>\n",
              "    <tr>\n",
              "      <th>12</th>\n",
              "      <td>2</td>\n",
              "      <td>0.87</td>\n",
              "    </tr>\n",
              "    <tr>\n",
              "      <th>13</th>\n",
              "      <td>2</td>\n",
              "      <td>0.45</td>\n",
              "    </tr>\n",
              "    <tr>\n",
              "      <th>14</th>\n",
              "      <td>2</td>\n",
              "      <td>-0.97</td>\n",
              "    </tr>\n",
              "    <tr>\n",
              "      <th>15</th>\n",
              "      <td>2</td>\n",
              "      <td>5.32</td>\n",
              "    </tr>\n",
              "    <tr>\n",
              "      <th>16</th>\n",
              "      <td>3</td>\n",
              "      <td>0.51</td>\n",
              "    </tr>\n",
              "    <tr>\n",
              "      <th>17</th>\n",
              "      <td>3</td>\n",
              "      <td>-1.29</td>\n",
              "    </tr>\n",
              "    <tr>\n",
              "      <th>18</th>\n",
              "      <td>3</td>\n",
              "      <td>0.23</td>\n",
              "    </tr>\n",
              "    <tr>\n",
              "      <th>19</th>\n",
              "      <td>3</td>\n",
              "      <td>-3.41</td>\n",
              "    </tr>\n",
              "    <tr>\n",
              "      <th>20</th>\n",
              "      <td>3</td>\n",
              "      <td>-1.54</td>\n",
              "    </tr>\n",
              "    <tr>\n",
              "      <th>21</th>\n",
              "      <td>3</td>\n",
              "      <td>-2.08</td>\n",
              "    </tr>\n",
              "    <tr>\n",
              "      <th>22</th>\n",
              "      <td>3</td>\n",
              "      <td>1.32</td>\n",
              "    </tr>\n",
              "    <tr>\n",
              "      <th>23</th>\n",
              "      <td>3</td>\n",
              "      <td>1.79</td>\n",
              "    </tr>\n",
              "    <tr>\n",
              "      <th>24</th>\n",
              "      <td>3</td>\n",
              "      <td>-1.82</td>\n",
              "    </tr>\n",
              "    <tr>\n",
              "      <th>25</th>\n",
              "      <td>3</td>\n",
              "      <td>1.36</td>\n",
              "    </tr>\n",
              "    <tr>\n",
              "      <th>26</th>\n",
              "      <td>3</td>\n",
              "      <td>0.96</td>\n",
              "    </tr>\n",
              "  </tbody>\n",
              "</table>\n",
              "</div>\n",
              "    <div class=\"colab-df-buttons\">\n",
              "\n",
              "  <div class=\"colab-df-container\">\n",
              "    <button class=\"colab-df-convert\" onclick=\"convertToInteractive('df-8eb05d22-9e56-499a-96a6-3d72dce18348')\"\n",
              "            title=\"Convert this dataframe to an interactive table.\"\n",
              "            style=\"display:none;\">\n",
              "\n",
              "  <svg xmlns=\"http://www.w3.org/2000/svg\" height=\"24px\" viewBox=\"0 -960 960 960\">\n",
              "    <path d=\"M120-120v-720h720v720H120Zm60-500h600v-160H180v160Zm220 220h160v-160H400v160Zm0 220h160v-160H400v160ZM180-400h160v-160H180v160Zm440 0h160v-160H620v160ZM180-180h160v-160H180v160Zm440 0h160v-160H620v160Z\"/>\n",
              "  </svg>\n",
              "    </button>\n",
              "\n",
              "  <style>\n",
              "    .colab-df-container {\n",
              "      display:flex;\n",
              "      gap: 12px;\n",
              "    }\n",
              "\n",
              "    .colab-df-convert {\n",
              "      background-color: #E8F0FE;\n",
              "      border: none;\n",
              "      border-radius: 50%;\n",
              "      cursor: pointer;\n",
              "      display: none;\n",
              "      fill: #1967D2;\n",
              "      height: 32px;\n",
              "      padding: 0 0 0 0;\n",
              "      width: 32px;\n",
              "    }\n",
              "\n",
              "    .colab-df-convert:hover {\n",
              "      background-color: #E2EBFA;\n",
              "      box-shadow: 0px 1px 2px rgba(60, 64, 67, 0.3), 0px 1px 3px 1px rgba(60, 64, 67, 0.15);\n",
              "      fill: #174EA6;\n",
              "    }\n",
              "\n",
              "    .colab-df-buttons div {\n",
              "      margin-bottom: 4px;\n",
              "    }\n",
              "\n",
              "    [theme=dark] .colab-df-convert {\n",
              "      background-color: #3B4455;\n",
              "      fill: #D2E3FC;\n",
              "    }\n",
              "\n",
              "    [theme=dark] .colab-df-convert:hover {\n",
              "      background-color: #434B5C;\n",
              "      box-shadow: 0px 1px 3px 1px rgba(0, 0, 0, 0.15);\n",
              "      filter: drop-shadow(0px 1px 2px rgba(0, 0, 0, 0.3));\n",
              "      fill: #FFFFFF;\n",
              "    }\n",
              "  </style>\n",
              "\n",
              "    <script>\n",
              "      const buttonEl =\n",
              "        document.querySelector('#df-8eb05d22-9e56-499a-96a6-3d72dce18348 button.colab-df-convert');\n",
              "      buttonEl.style.display =\n",
              "        google.colab.kernel.accessAllowed ? 'block' : 'none';\n",
              "\n",
              "      async function convertToInteractive(key) {\n",
              "        const element = document.querySelector('#df-8eb05d22-9e56-499a-96a6-3d72dce18348');\n",
              "        const dataTable =\n",
              "          await google.colab.kernel.invokeFunction('convertToInteractive',\n",
              "                                                    [key], {});\n",
              "        if (!dataTable) return;\n",
              "\n",
              "        const docLinkHtml = 'Like what you see? Visit the ' +\n",
              "          '<a target=\"_blank\" href=https://colab.research.google.com/notebooks/data_table.ipynb>data table notebook</a>'\n",
              "          + ' to learn more about interactive tables.';\n",
              "        element.innerHTML = '';\n",
              "        dataTable['output_type'] = 'display_data';\n",
              "        await google.colab.output.renderOutput(dataTable, element);\n",
              "        const docLink = document.createElement('div');\n",
              "        docLink.innerHTML = docLinkHtml;\n",
              "        element.appendChild(docLink);\n",
              "      }\n",
              "    </script>\n",
              "  </div>\n",
              "\n",
              "\n",
              "    <div id=\"df-a5349ea6-b5cb-4507-9c83-3fedc3728976\">\n",
              "      <button class=\"colab-df-quickchart\" onclick=\"quickchart('df-a5349ea6-b5cb-4507-9c83-3fedc3728976')\"\n",
              "                title=\"Suggest charts\"\n",
              "                style=\"display:none;\">\n",
              "\n",
              "<svg xmlns=\"http://www.w3.org/2000/svg\" height=\"24px\"viewBox=\"0 0 24 24\"\n",
              "     width=\"24px\">\n",
              "    <g>\n",
              "        <path d=\"M19 3H5c-1.1 0-2 .9-2 2v14c0 1.1.9 2 2 2h14c1.1 0 2-.9 2-2V5c0-1.1-.9-2-2-2zM9 17H7v-7h2v7zm4 0h-2V7h2v10zm4 0h-2v-4h2v4z\"/>\n",
              "    </g>\n",
              "</svg>\n",
              "      </button>\n",
              "\n",
              "<style>\n",
              "  .colab-df-quickchart {\n",
              "      --bg-color: #E8F0FE;\n",
              "      --fill-color: #1967D2;\n",
              "      --hover-bg-color: #E2EBFA;\n",
              "      --hover-fill-color: #174EA6;\n",
              "      --disabled-fill-color: #AAA;\n",
              "      --disabled-bg-color: #DDD;\n",
              "  }\n",
              "\n",
              "  [theme=dark] .colab-df-quickchart {\n",
              "      --bg-color: #3B4455;\n",
              "      --fill-color: #D2E3FC;\n",
              "      --hover-bg-color: #434B5C;\n",
              "      --hover-fill-color: #FFFFFF;\n",
              "      --disabled-bg-color: #3B4455;\n",
              "      --disabled-fill-color: #666;\n",
              "  }\n",
              "\n",
              "  .colab-df-quickchart {\n",
              "    background-color: var(--bg-color);\n",
              "    border: none;\n",
              "    border-radius: 50%;\n",
              "    cursor: pointer;\n",
              "    display: none;\n",
              "    fill: var(--fill-color);\n",
              "    height: 32px;\n",
              "    padding: 0;\n",
              "    width: 32px;\n",
              "  }\n",
              "\n",
              "  .colab-df-quickchart:hover {\n",
              "    background-color: var(--hover-bg-color);\n",
              "    box-shadow: 0 1px 2px rgba(60, 64, 67, 0.3), 0 1px 3px 1px rgba(60, 64, 67, 0.15);\n",
              "    fill: var(--button-hover-fill-color);\n",
              "  }\n",
              "\n",
              "  .colab-df-quickchart-complete:disabled,\n",
              "  .colab-df-quickchart-complete:disabled:hover {\n",
              "    background-color: var(--disabled-bg-color);\n",
              "    fill: var(--disabled-fill-color);\n",
              "    box-shadow: none;\n",
              "  }\n",
              "\n",
              "  .colab-df-spinner {\n",
              "    border: 2px solid var(--fill-color);\n",
              "    border-color: transparent;\n",
              "    border-bottom-color: var(--fill-color);\n",
              "    animation:\n",
              "      spin 1s steps(1) infinite;\n",
              "  }\n",
              "\n",
              "  @keyframes spin {\n",
              "    0% {\n",
              "      border-color: transparent;\n",
              "      border-bottom-color: var(--fill-color);\n",
              "      border-left-color: var(--fill-color);\n",
              "    }\n",
              "    20% {\n",
              "      border-color: transparent;\n",
              "      border-left-color: var(--fill-color);\n",
              "      border-top-color: var(--fill-color);\n",
              "    }\n",
              "    30% {\n",
              "      border-color: transparent;\n",
              "      border-left-color: var(--fill-color);\n",
              "      border-top-color: var(--fill-color);\n",
              "      border-right-color: var(--fill-color);\n",
              "    }\n",
              "    40% {\n",
              "      border-color: transparent;\n",
              "      border-right-color: var(--fill-color);\n",
              "      border-top-color: var(--fill-color);\n",
              "    }\n",
              "    60% {\n",
              "      border-color: transparent;\n",
              "      border-right-color: var(--fill-color);\n",
              "    }\n",
              "    80% {\n",
              "      border-color: transparent;\n",
              "      border-right-color: var(--fill-color);\n",
              "      border-bottom-color: var(--fill-color);\n",
              "    }\n",
              "    90% {\n",
              "      border-color: transparent;\n",
              "      border-bottom-color: var(--fill-color);\n",
              "    }\n",
              "  }\n",
              "</style>\n",
              "\n",
              "      <script>\n",
              "        async function quickchart(key) {\n",
              "          const quickchartButtonEl =\n",
              "            document.querySelector('#' + key + ' button');\n",
              "          quickchartButtonEl.disabled = true;  // To prevent multiple clicks.\n",
              "          quickchartButtonEl.classList.add('colab-df-spinner');\n",
              "          try {\n",
              "            const charts = await google.colab.kernel.invokeFunction(\n",
              "                'suggestCharts', [key], {});\n",
              "          } catch (error) {\n",
              "            console.error('Error during call to suggestCharts:', error);\n",
              "          }\n",
              "          quickchartButtonEl.classList.remove('colab-df-spinner');\n",
              "          quickchartButtonEl.classList.add('colab-df-quickchart-complete');\n",
              "        }\n",
              "        (() => {\n",
              "          let quickchartButtonEl =\n",
              "            document.querySelector('#df-a5349ea6-b5cb-4507-9c83-3fedc3728976 button');\n",
              "          quickchartButtonEl.style.display =\n",
              "            google.colab.kernel.accessAllowed ? 'block' : 'none';\n",
              "        })();\n",
              "      </script>\n",
              "    </div>\n",
              "    </div>\n",
              "  </div>\n"
            ],
            "application/vnd.google.colaboratory.intrinsic+json": {
              "type": "dataframe",
              "variable_name": "df",
              "summary": "{\n  \"name\": \"df\",\n  \"rows\": 27,\n  \"fields\": [\n    {\n      \"column\": \"B\",\n      \"properties\": {\n        \"dtype\": \"number\",\n        \"std\": 0,\n        \"min\": 1,\n        \"max\": 3,\n        \"num_unique_values\": 3,\n        \"samples\": [\n          1,\n          2,\n          3\n        ],\n        \"semantic_type\": \"\",\n        \"description\": \"\"\n      }\n    },\n    {\n      \"column\": \"response\",\n      \"properties\": {\n        \"dtype\": \"number\",\n        \"std\": 2.215965379716607,\n        \"min\": -3.41,\n        \"max\": 6.0,\n        \"num_unique_values\": 26,\n        \"samples\": [\n          3.75,\n          -1.29,\n          0.77\n        ],\n        \"semantic_type\": \"\",\n        \"description\": \"\"\n      }\n    }\n  ]\n}"
            }
          },
          "metadata": {},
          "execution_count": 51
        }
      ]
    },
    {
      "cell_type": "markdown",
      "source": [
        "$$\n",
        "\\text{Ограничение на параметры модели: }\n",
        "$$\n",
        "$$\n",
        "\\sum_{i=1}^k \\alpha_i = 0,\n",
        "$$\n",
        "$$\n",
        "\\text{где } \\alpha_i \\text{ — эффект i-го уровня фактора.}\n",
        "$$\n",
        "\n",
        "$$\n",
        "Y = X \\Theta + \\varepsilon,\n",
        "$$\n",
        "\n",
        "где:\n",
        "- $Y$ — матрица размеров $n \\times 1$ наблюдаемых значений отклика ($n = \\sum_{i=1}^k n_i$),\n",
        "- $\\varepsilon$ — матрица размеров $n \\times 1$ случайных ошибок $\\xi_{ij}$,\n",
        "- $\\Theta$ — матрица размеров $(k+1) \\times 1$ коэффициентов $\\theta_0, \\alpha_1, \\cdots, \\alpha_k$,\n",
        "- $X$ — матрица размеров $n \\times (k+1)$ значений факторов $x_0, x_1, \\cdots, x_k$\n",
        "\n",
        "$$\n",
        "X = (x_0 \\, x_1 \\, x_2 \\, {...} \\, x_k) =\n",
        "\\begin{pmatrix}\n",
        "1 & 1 & 0 & 0 \\\\\n",
        "\\vdots & \\vdots & \\vdots & \\vdots \\\\\n",
        "1 & 1 & 0 & 0 \\\\\n",
        "\\vdots & \\vdots & \\vdots & \\vdots \\\\\n",
        "1 & 0 & 0 & 1 \\\\\n",
        "\\vdots & \\vdots & \\vdots & \\vdots \\\\\n",
        "1 & 0 & 0 & 1\n",
        "\\end{pmatrix},\n",
        "\\quad \\Theta =\n",
        "\\begin{pmatrix}\n",
        "\\theta_0 \\\\\n",
        "\\alpha_1 \\\\\n",
        "\\alpha_2 \\\\\n",
        "\\vdots \\\\\n",
        "\\alpha_k\n",
        "\\end{pmatrix}\n",
        "$$\n",
        "\n",
        "$$\n",
        "\\text{В соответствии с ограничением: }\n",
        "$$\n",
        "\n",
        "$$\n",
        "\\sum_{i=1}^k \\alpha_i = 0\n",
        "\\text{(что соответствует } \\theta_0 = \\frac{1}{k} \\sum_{i=1}^k \\theta_i {).}\n",
        "$$\n",
        "\n",
        "Матрицу значений факторов $X_2$, соответствующую данному ограничению, можно получить следующим образом.\n",
        "\n",
        "Пусть:\n",
        "- $x_i,\\ i = 0,\\ldots,k+1$ - столбцы матрицы $X$\n",
        "- $\\widetilde{x}_i,\\ i = 0,\\ldots,k$ - столбцы матрицы $X_2$\n",
        "\n",
        "Тогда:\n",
        "$$\n",
        "\\widetilde{x}_0 = x_0,\\quad \\widetilde{x}_i = x_i - x_{i+1},\\ i = 1,\\ldots,k.\n",
        "$$"
      ],
      "metadata": {
        "id": "i-w1tJRAf5ea"
      }
    },
    {
      "cell_type": "markdown",
      "source": [
        "Исследуем влияние на среднее значение результирующего показателя фактора B."
      ],
      "metadata": {
        "id": "b4qFgVzGrVuO"
      }
    },
    {
      "cell_type": "code",
      "source": [
        "# Построим первоначальную матрицу X\n",
        "X_init = np.zeros([len(B), 4])\n",
        "counts = np.bincount(B) # считает, сколько раз каждое из целых значений входит в массив\n",
        "# Заполнение нулевого столбца\n",
        "for row in X_init:\n",
        "  row[0] = 1\n",
        "# Заполнение первого столбца\n",
        "for row in X_init[:counts[1]]:\n",
        "  row[1] = 1\n",
        "# Заполнение второго столбца\n",
        "for row in X_init[counts[1]:counts[1]+counts[2]]:\n",
        "  row[2] = 1\n",
        "# Заполнение третьего столбца\n",
        "for row in X_init[counts[1]+counts[2]:]:\n",
        "  row[3] = 1\n",
        "X_init"
      ],
      "metadata": {
        "colab": {
          "base_uri": "https://localhost:8080/"
        },
        "id": "IHYu2FTrqGbP",
        "outputId": "82d208b2-18a1-4445-e8b2-8944c5011541"
      },
      "execution_count": null,
      "outputs": [
        {
          "output_type": "execute_result",
          "data": {
            "text/plain": [
              "array([[1., 1., 0., 0.],\n",
              "       [1., 1., 0., 0.],\n",
              "       [1., 1., 0., 0.],\n",
              "       [1., 1., 0., 0.],\n",
              "       [1., 1., 0., 0.],\n",
              "       [1., 1., 0., 0.],\n",
              "       [1., 1., 0., 0.],\n",
              "       [1., 1., 0., 0.],\n",
              "       [1., 1., 0., 0.],\n",
              "       [1., 0., 1., 0.],\n",
              "       [1., 0., 1., 0.],\n",
              "       [1., 0., 1., 0.],\n",
              "       [1., 0., 1., 0.],\n",
              "       [1., 0., 1., 0.],\n",
              "       [1., 0., 1., 0.],\n",
              "       [1., 0., 1., 0.],\n",
              "       [1., 0., 0., 1.],\n",
              "       [1., 0., 0., 1.],\n",
              "       [1., 0., 0., 1.],\n",
              "       [1., 0., 0., 1.],\n",
              "       [1., 0., 0., 1.],\n",
              "       [1., 0., 0., 1.],\n",
              "       [1., 0., 0., 1.],\n",
              "       [1., 0., 0., 1.],\n",
              "       [1., 0., 0., 1.],\n",
              "       [1., 0., 0., 1.],\n",
              "       [1., 0., 0., 1.]])"
            ]
          },
          "metadata": {},
          "execution_count": 52
        }
      ]
    },
    {
      "cell_type": "code",
      "source": [
        "# Построим матрицу X_2 c учётом ограничений\n",
        "X_2 = np.zeros([len(B), 3])\n",
        "# Заполнение нулевого столбца\n",
        "for row in X_2:\n",
        "  row[0] = 1\n",
        "# Заполнение первого столбца\n",
        "for row_num in range(len(X_init)):\n",
        "  X_2[row_num][1] = X_init[row_num][1] - X_init[row_num][2]\n",
        "# Заполнение второго столбца\n",
        "for row_num in range(len(X_init)):\n",
        "  X_2[row_num][2] = X_init[row_num][2] - X_init[row_num][3]\n",
        "X_2"
      ],
      "metadata": {
        "colab": {
          "base_uri": "https://localhost:8080/"
        },
        "id": "-0o0_f7rxyf1",
        "outputId": "ecb6ab77-bf73-4f09-d67d-35e017a18a51"
      },
      "execution_count": null,
      "outputs": [
        {
          "output_type": "execute_result",
          "data": {
            "text/plain": [
              "array([[ 1.,  1.,  0.],\n",
              "       [ 1.,  1.,  0.],\n",
              "       [ 1.,  1.,  0.],\n",
              "       [ 1.,  1.,  0.],\n",
              "       [ 1.,  1.,  0.],\n",
              "       [ 1.,  1.,  0.],\n",
              "       [ 1.,  1.,  0.],\n",
              "       [ 1.,  1.,  0.],\n",
              "       [ 1.,  1.,  0.],\n",
              "       [ 1., -1.,  1.],\n",
              "       [ 1., -1.,  1.],\n",
              "       [ 1., -1.,  1.],\n",
              "       [ 1., -1.,  1.],\n",
              "       [ 1., -1.,  1.],\n",
              "       [ 1., -1.,  1.],\n",
              "       [ 1., -1.,  1.],\n",
              "       [ 1.,  0., -1.],\n",
              "       [ 1.,  0., -1.],\n",
              "       [ 1.,  0., -1.],\n",
              "       [ 1.,  0., -1.],\n",
              "       [ 1.,  0., -1.],\n",
              "       [ 1.,  0., -1.],\n",
              "       [ 1.,  0., -1.],\n",
              "       [ 1.,  0., -1.],\n",
              "       [ 1.,  0., -1.],\n",
              "       [ 1.,  0., -1.],\n",
              "       [ 1.,  0., -1.]])"
            ]
          },
          "metadata": {},
          "execution_count": 53
        }
      ]
    },
    {
      "cell_type": "markdown",
      "source": [
        "Проводим регрессионный анализ с полученной матрицей полного ранга $X_2$ и соответствующим вектором значений отклика $Y$, и делаем вывод о значимости регрессионной модели."
      ],
      "metadata": {
        "id": "MJmPD9WT25qi"
      }
    },
    {
      "cell_type": "markdown",
      "source": [
        "Нахождение вектора оценок параметров регрессии:\n",
        "$$\n",
        "\\hat{B} = K^{-1}Z,\n",
        "$$\n",
        "\n",
        "где:\n",
        "\n",
        "$$\n",
        "K = X^TX, \\quad Z = X^TY,\n",
        "$$\n",
        "\n",
        "$$\n",
        "X =\n",
        "\\begin{pmatrix}\n",
        "1 & x_1^{(1)} & \\cdots & x_k^{(1)} \\\\\n",
        "1 & x_1^{(2)} & \\cdots & x_k^{(2)} \\\\\n",
        "\\vdots & \\vdots & \\ddots & \\vdots \\\\\n",
        "1 & x_1^{(n)} & \\cdots & x_k^{(n)}\n",
        "\\end{pmatrix}\n",
        "=\n",
        "\\begin{pmatrix}\n",
        "1 & \\varphi_1(x_1) & \\cdots & \\varphi_k(x_1) \\\\\n",
        "1 & \\varphi_1(x_2) & \\cdots & \\varphi_k(x_2) \\\\\n",
        "\\vdots & \\vdots & \\ddots & \\vdots \\\\\n",
        "1 & \\varphi_1(x_n) & \\cdots & \\varphi_k(x_n)\n",
        "\\end{pmatrix}, \\quad\n",
        "Y =\n",
        "\\begin{pmatrix}\n",
        "y_1 \\\\\n",
        "y_2 \\\\\n",
        "\\vdots \\\\\n",
        "y_n\n",
        "\\end{pmatrix}\n",
        "$$"
      ],
      "metadata": {
        "id": "_XWMLT1bgIek"
      }
    },
    {
      "cell_type": "code",
      "source": [
        "# Функция для нахождения оценки параметров уравнения множественной линейной регрессии\n",
        "def mul_linear_reg_params(X, Y):\n",
        "  K = X.T @ X\n",
        "  Z = X.T @ Y\n",
        "  res = np.linalg.inv(K) @ Z\n",
        "  return res\n",
        "\n",
        "B_p = mul_linear_reg_params(X_2, Y) # Вектор оценок параметров уравнения линейной регрессии\n",
        "print(f'Уравнение соответствующей регрессионной модели: y = {round(B_p[0], 2)} + {round(B_p[1], 2)}*x1 + {round(B_p[2], 2)}*x2')"
      ],
      "metadata": {
        "colab": {
          "base_uri": "https://localhost:8080/"
        },
        "id": "GDGHRFjAfj93",
        "outputId": "84a68281-bcca-4cdb-b578-d788d3eb77c9"
      },
      "execution_count": null,
      "outputs": [
        {
          "output_type": "stream",
          "name": "stdout",
          "text": [
            "Уравнение соответствующей регрессионной модели: y = 1.32 + 0.94*x1 + 1.68*x2\n"
          ]
        }
      ]
    },
    {
      "cell_type": "markdown",
      "source": [
        "Проверим, выполняются ли основные предположения дисперсионного анализа (нормальность остатков и однородность дисперсий для различных уровней фактора)."
      ],
      "metadata": {
        "id": "YS1fpnCBNQdZ"
      }
    },
    {
      "cell_type": "code",
      "source": [
        "# Исследование свойств остатков модели линейной регрессии\n",
        "residuals_vec = [(Y[i] - (B_p[2]*X_2[i][2] + B_p[1]*X_2[i][1] + B_p[0]*X_2[i][0])) for i in range(len(Y))]\n",
        "\n",
        "# Найдем оценки параметров нормального распределения\n",
        "res_mean = sum(residuals_vec)/len(residuals_vec)\n",
        "res_disp = sum([(residuals_vec[i] - res_mean)**2 for i in range(len(residuals_vec))])/(len(residuals_vec)-1)\n",
        "\n",
        "# Построение гистограммы\n",
        "plt.hist(residuals_vec, bins=int(1 + np.log2(len(residuals_vec))), density=True, edgecolor='black')\n",
        "plt.title('Гистограмма плотностей частот')\n",
        "plt.xlabel('Величина остатка')\n",
        "plt.ylabel('Плотность частоты')\n",
        "plt.grid(True, alpha=0.3)\n",
        "\n",
        "# Наложение графика плотности нормального распределения\n",
        "xmin, xmax = plt.xlim()\n",
        "x = np.linspace(xmin, xmax, 100)\n",
        "p = norm.pdf(x, res_mean, res_disp**0.5)\n",
        "plt.plot(x, p, 'r', linewidth=2)"
      ],
      "metadata": {
        "colab": {
          "base_uri": "https://localhost:8080/",
          "height": 491
        },
        "id": "wiRT5OuHNkUo",
        "outputId": "47db84db-a6e7-486e-f467-7ea35d1ea2d7"
      },
      "execution_count": null,
      "outputs": [
        {
          "output_type": "execute_result",
          "data": {
            "text/plain": [
              "[<matplotlib.lines.Line2D at 0x7b0dc6b4c250>]"
            ]
          },
          "metadata": {},
          "execution_count": 55
        },
        {
          "output_type": "display_data",
          "data": {
            "text/plain": [
              "<Figure size 640x480 with 1 Axes>"
            ],
            "image/png": "[encoded data removed]"
          },
          "metadata": {}
        }
      ]
    },
    {
      "cell_type": "markdown",
      "source": [
        "Визуально гистограмма остатков хорошо согласуется с кривой плотности нормального распределения."
      ],
      "metadata": {
        "id": "kwN9goC5TJuK"
      }
    },
    {
      "cell_type": "code",
      "source": [
        "# Исследование однородности остатков (гомоскедастичности)\n",
        "# Отображение диаграммы рассеяния\n",
        "predicted_values = [(B_p[2]*X_2[i][2] + B_p[1]*X_2[i][1] + B_p[0]*X_2[i][0]) for i in range(len(Y))]\n",
        "plt.figure(figsize=(10, 6))\n",
        "plt.scatter(predicted_values, residuals_vec)\n",
        "plt.title('Диаграмма рассеяния для остатков')\n",
        "plt.xlabel('Predicted Values')\n",
        "plt.ylabel('Residuals')\n",
        "plt.grid(True)"
      ],
      "metadata": {
        "colab": {
          "base_uri": "https://localhost:8080/",
          "height": 564
        },
        "id": "0hbJzs5WTIvC",
        "outputId": "5d5cbaf5-dfaf-4dcc-8a69-84c397b9943c"
      },
      "execution_count": null,
      "outputs": [
        {
          "output_type": "display_data",
          "data": {
            "text/plain": [
              "<Figure size 1000x600 with 1 Axes>"
            ],
            "image/png": "[encoded data removed]"
          },
          "metadata": {}
        }
      ]
    },
    {
      "cell_type": "markdown",
      "source": [
        "Из приведенной диаграммы можно сделать вывод о достаточной однородности разброса остатков, то есть можно считать, что остатки гомоскедастичны."
      ],
      "metadata": {
        "id": "yxhMu7uAUlS5"
      }
    },
    {
      "cell_type": "markdown",
      "source": [
        "$$\n",
        "\\text{Оценка коэффициента детерминации:}\n",
        "$$\n",
        "\n",
        "$$\n",
        "\\hat{R}^2 = 1 - \\frac{\\sum_{i=1}^n (y_i - \\hat{y}(x_i))^2}{\\sum_{i=1}^n (y_i - \\bar{y})^2}\n",
        "$$\n",
        "\n",
        "$$\n",
        "\\text{Cтатистика Фишера:}\n",
        "$$\n",
        "$$\n",
        "F = \\frac{n - k - 1}{k} \\frac{\\sum_{i=1}^{n} (\\hat{y}(x_i) - \\bar{y})^2}{\\sum_{i=1}^{n} (\\hat{y}(x_i) - y_i)^2} = \\frac{n - k - 1}{k} \\frac{\\hat{R}^2}{1 - \\hat{R}^2}\n",
        "$$"
      ],
      "metadata": {
        "id": "bNijOfNGj1l2"
      }
    },
    {
      "cell_type": "code",
      "source": [
        "# Оценка коэффициента детерминации\n",
        "est_coef_det_lin = 1 - sum([(Y[i] - (B_p[2]*X_2[i][2] + B_p[1]*X_2[i][1] + B_p[0]*X_2[i][0]))**2 for i in range(len(Y))])/sum([(Y[i] - sum(Y)/len(Y))**2 for i in range(len(Y))])\n",
        "\n",
        "print(f'Оценка коэффициента детерминации: {est_coef_det_lin}')\n",
        "\n",
        "# Статистика Фишера\n",
        "F = ((len(Y)-3)/2)*(est_coef_det_lin/(1-est_coef_det_lin))\n",
        "print(f'Статистика Фишера: {F}')"
      ],
      "metadata": {
        "colab": {
          "base_uri": "https://localhost:8080/"
        },
        "id": "tpJIeQSQkR7j",
        "outputId": "58dd402c-e554-4a26-e6fc-cad3d0ce05d6"
      },
      "execution_count": null,
      "outputs": [
        {
          "output_type": "stream",
          "name": "stdout",
          "text": [
            "Оценка коэффициента детерминации: 0.3295841581990162\n",
            "Статистика Фишера: 5.899338368502125\n"
          ]
        }
      ]
    },
    {
      "cell_type": "markdown",
      "source": [
        "$$\n",
        "\\text{При } \\alpha = 0.05\n",
        "$$\n",
        "\n",
        "$$\n",
        "F_{\\text{крит}} = 3{,}40282610\n",
        "$$\n",
        "\n",
        "$$\n",
        "\\text{Значение статистики Фишера для линейной регрессии больше } F_{\\text{крит}}\n",
        "$$\n",
        "\n",
        "$$\n",
        "\\text{=> Соотвествующая регрессионная модель является значимой.}\n",
        "$$"
      ],
      "metadata": {
        "id": "HXssguZclu3K"
      }
    },
    {
      "cell_type": "markdown",
      "source": [
        "Таким образом, эффект фактора - значим."
      ],
      "metadata": {
        "id": "F5Llds2IMi4A"
      }
    },
    {
      "cell_type": "markdown",
      "source": [
        "Проведем анализ значимости попарных различий средних значений отклика для различных уровней фактора."
      ],
      "metadata": {
        "id": "eZ0U8yF1Vrbx"
      }
    },
    {
      "cell_type": "markdown",
      "source": [
        "**Метод множественных сравнений Шеффе**\n",
        "\n",
        "Для проверки гипотезы равенства средних $\\mu_i$ и $\\mu_j$ используется статистика:\n",
        "\n",
        "$$F = \\frac{\\left( \\overline{y}_i - \\overline{y}_j \\right)^2}{v_1 \\, MS_R (1/n_i + 1/n_j)},$$\n",
        "\n",
        "где:\n",
        "- $MS_R$ – оценка внутригрупповой (остаточной) дисперсии, полученная в ходе дисперсионного анализа\n",
        "- $\\overline{y}_i$, $\\overline{y}_j$ – выборочные средние для групп $i$ и $j$\n",
        "- $n_i$, $n_j$ – размеры групп $i$ и $j$\n",
        "- $v_1$ – число степеней свободы для фактора\n",
        "\n",
        "Если наблюдаемое значение статистики $F_{\\text{набл}} \\geq F_{\\text{кр}}$, то гипотеза о равенстве средних отвергается.\n",
        "\n",
        "$$\n",
        "\\text{При } \\alpha = 0.05\n",
        "$$\n",
        "\n",
        "$$\n",
        "F_{\\text{крит}} = 4{,}2416\n",
        "$$"
      ],
      "metadata": {
        "id": "RKySFXEdYvZZ"
      }
    },
    {
      "cell_type": "code",
      "source": [
        "n1 = counts[1]\n",
        "n2 = counts[2]\n",
        "n3 = counts[3]\n",
        "mean_1 = sum(Y[:n1])/n1\n",
        "mean_2 = sum(Y[n1:n1+n2])/n2\n",
        "mean_3 = sum(Y[n1+n2:])/n3\n",
        "\n",
        "SSR = sum([(yij - mean_1)**2 for yij in Y[:n1]]) + sum([(yij - mean_2)**2 for yij in Y[n1:n1+n2]]) + sum([(yij - mean_3)**2 for yij in Y[n1+n2:]])\n",
        "MSR = SSR/25\n",
        "\n",
        "F_1_2 = (mean_1 - mean_2)**2/(MSR*(1/n1+1/n2))\n",
        "F_1_3 = (mean_1 - mean_3)**2/(MSR*(1/n1+1/n3))\n",
        "F_2_3 = (mean_2 - mean_3)**2/(MSR*(1/n2+1/n3))\n",
        "\n",
        "print(f'Статистика Фишера для уровней 1, 2: {F_1_2}')\n",
        "print(f'Статистика Фишера для уровней 1, 3: {F_1_3}')\n",
        "print(f'Статистика Фишера для уровней 2, 3: {F_2_3}')\n"
      ],
      "metadata": {
        "colab": {
          "base_uri": "https://localhost:8080/"
        },
        "id": "AO7F2lDsMsb1",
        "outputId": "7b028916-1759-478e-87cf-59fdd6c15091"
      },
      "execution_count": null,
      "outputs": [
        {
          "output_type": "stream",
          "name": "stdout",
          "text": [
            "Статистика Фишера для уровней 1, 2: 0.04055135847029673\n",
            "Статистика Фишера для уровней 1, 3: 9.914453731713095\n",
            "Статистика Фишера для уровней 2, 3: 7.383327047692096\n"
          ]
        }
      ]
    },
    {
      "cell_type": "markdown",
      "source": [
        "Таким образом, принимаем гипотезу о равенстве средних групп 1 и 2, и отвергаем гипотезу о равенстве средних следующих групп: 1 и 3, 2 и 3."
      ],
      "metadata": {
        "id": "LhLt9uCKgyML"
      }
    },
    {
      "cell_type": "markdown",
      "source": [
        "**Вывод**\n",
        "\n",
        "В ходе данной лабораторной работы был проведен однофакторный дисперсионный анализ посредством построения соответствующей линейной модели и оценки ее значимости. Построенная модель оказалась значимой, а соответственно и рассматриваемый эффект фактора также был признан значимым. Анализ значимости попарных различий средних значений отклика для различных уровней фактора показал, что между 1-м и 2-м уровнями различий в средних значениях нет, однако гипотеза о равенстве среднего значения 3-й группы средним значениям первых двух групп была отклонена."
      ],
      "metadata": {
        "id": "J09L_k3LhspN"
      }
    }
  ]
}