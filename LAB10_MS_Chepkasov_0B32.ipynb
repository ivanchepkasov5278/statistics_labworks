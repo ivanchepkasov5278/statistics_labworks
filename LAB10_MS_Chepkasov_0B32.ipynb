{
  "nbformat": 4,
  "nbformat_minor": 0,
  "metadata": {
    "colab": {
      "provenance": []
    },
    "kernelspec": {
      "name": "python3",
      "display_name": "Python 3"
    },
    "language_info": {
      "name": "python"
    }
  },
  "cells": [
    {
      "cell_type": "code",
      "execution_count": null,
      "metadata": {
        "id": "nLS_gKlH1YSg"
      },
      "outputs": [],
      "source": [
        "import pandas as pd\n",
        "import numpy as np\n",
        "import matplotlib.pyplot as plt\n",
        "from scipy.stats import norm"
      ]
    },
    {
      "cell_type": "code",
      "source": [
        "# Считывание данных из файла\n",
        "df = pd.read_csv('data.csv', decimal=',')\n",
        "A = df['A'].to_numpy()\n",
        "B = df['B'].to_numpy()\n",
        "Y = df['response'].to_numpy() # матрица наблбдаемых значений отклика\n",
        "df"
      ],
      "metadata": {
        "colab": {
          "base_uri": "https://localhost:8080/",
          "height": 896
        },
        "id": "5QOEIQVr1iYg",
        "outputId": "b311ecd4-0823-42d2-8639-95833a896b91"
      },
      "execution_count": null,
      "outputs": [
        {
          "output_type": "execute_result",
          "data": {
            "text/plain": [
              "    A  B  response\n",
              "0   1  1      0.77\n",
              "1   1  1      2.10\n",
              "2   1  1      2.22\n",
              "3   1  1      0.95\n",
              "4   1  2      5.32\n",
              "5   1  2      6.00\n",
              "6   1  2      2.37\n",
              "7   1  3     -2.08\n",
              "8   1  3     -1.54\n",
              "9   1  3     -1.29\n",
              "10  1  3      0.23\n",
              "11  1  3     -3.41\n",
              "12  1  3      0.51\n",
              "13  2  1      4.00\n",
              "14  2  1      3.21\n",
              "15  2  1      2.85\n",
              "16  2  1      0.47\n",
              "17  2  1      3.75\n",
              "18  2  2      0.45\n",
              "19  2  2      0.87\n",
              "20  2  2      0.45\n",
              "21  2  2     -0.97\n",
              "22  2  3      1.32\n",
              "23  2  3      1.79\n",
              "24  2  3     -1.82\n",
              "25  2  3      1.36\n",
              "26  2  3      0.96"
            ],
            "text/html": [
              "\n",
              "  <div id=\"df-02519cc4-7426-4a02-91a4-b71440e8d48e\" class=\"colab-df-container\">\n",
              "    <div>\n",
              "<style scoped>\n",
              "    .dataframe tbody tr th:only-of-type {\n",
              "        vertical-align: middle;\n",
              "    }\n",
              "\n",
              "    .dataframe tbody tr th {\n",
              "        vertical-align: top;\n",
              "    }\n",
              "\n",
              "    .dataframe thead th {\n",
              "        text-align: right;\n",
              "    }\n",
              "</style>\n",
              "<table border=\"1\" class=\"dataframe\">\n",
              "  <thead>\n",
              "    <tr style=\"text-align: right;\">\n",
              "      <th></th>\n",
              "      <th>A</th>\n",
              "      <th>B</th>\n",
              "      <th>response</th>\n",
              "    </tr>\n",
              "  </thead>\n",
              "  <tbody>\n",
              "    <tr>\n",
              "      <th>0</th>\n",
              "      <td>1</td>\n",
              "      <td>1</td>\n",
              "      <td>0.77</td>\n",
              "    </tr>\n",
              "    <tr>\n",
              "      <th>1</th>\n",
              "      <td>1</td>\n",
              "      <td>1</td>\n",
              "      <td>2.10</td>\n",
              "    </tr>\n",
              "    <tr>\n",
              "      <th>2</th>\n",
              "      <td>1</td>\n",
              "      <td>1</td>\n",
              "      <td>2.22</td>\n",
              "    </tr>\n",
              "    <tr>\n",
              "      <th>3</th>\n",
              "      <td>1</td>\n",
              "      <td>1</td>\n",
              "      <td>0.95</td>\n",
              "    </tr>\n",
              "    <tr>\n",
              "      <th>4</th>\n",
              "      <td>1</td>\n",
              "      <td>2</td>\n",
              "      <td>5.32</td>\n",
              "    </tr>\n",
              "    <tr>\n",
              "      <th>5</th>\n",
              "      <td>1</td>\n",
              "      <td>2</td>\n",
              "      <td>6.00</td>\n",
              "    </tr>\n",
              "    <tr>\n",
              "      <th>6</th>\n",
              "      <td>1</td>\n",
              "      <td>2</td>\n",
              "      <td>2.37</td>\n",
              "    </tr>\n",
              "    <tr>\n",
              "      <th>7</th>\n",
              "      <td>1</td>\n",
              "      <td>3</td>\n",
              "      <td>-2.08</td>\n",
              "    </tr>\n",
              "    <tr>\n",
              "      <th>8</th>\n",
              "      <td>1</td>\n",
              "      <td>3</td>\n",
              "      <td>-1.54</td>\n",
              "    </tr>\n",
              "    <tr>\n",
              "      <th>9</th>\n",
              "      <td>1</td>\n",
              "      <td>3</td>\n",
              "      <td>-1.29</td>\n",
              "    </tr>\n",
              "    <tr>\n",
              "      <th>10</th>\n",
              "      <td>1</td>\n",
              "      <td>3</td>\n",
              "      <td>0.23</td>\n",
              "    </tr>\n",
              "    <tr>\n",
              "      <th>11</th>\n",
              "      <td>1</td>\n",
              "      <td>3</td>\n",
              "      <td>-3.41</td>\n",
              "    </tr>\n",
              "    <tr>\n",
              "      <th>12</th>\n",
              "      <td>1</td>\n",
              "      <td>3</td>\n",
              "      <td>0.51</td>\n",
              "    </tr>\n",
              "    <tr>\n",
              "      <th>13</th>\n",
              "      <td>2</td>\n",
              "      <td>1</td>\n",
              "      <td>4.00</td>\n",
              "    </tr>\n",
              "    <tr>\n",
              "      <th>14</th>\n",
              "      <td>2</td>\n",
              "      <td>1</td>\n",
              "      <td>3.21</td>\n",
              "    </tr>\n",
              "    <tr>\n",
              "      <th>15</th>\n",
              "      <td>2</td>\n",
              "      <td>1</td>\n",
              "      <td>2.85</td>\n",
              "    </tr>\n",
              "    <tr>\n",
              "      <th>16</th>\n",
              "      <td>2</td>\n",
              "      <td>1</td>\n",
              "      <td>0.47</td>\n",
              "    </tr>\n",
              "    <tr>\n",
              "      <th>17</th>\n",
              "      <td>2</td>\n",
              "      <td>1</td>\n",
              "      <td>3.75</td>\n",
              "    </tr>\n",
              "    <tr>\n",
              "      <th>18</th>\n",
              "      <td>2</td>\n",
              "      <td>2</td>\n",
              "      <td>0.45</td>\n",
              "    </tr>\n",
              "    <tr>\n",
              "      <th>19</th>\n",
              "      <td>2</td>\n",
              "      <td>2</td>\n",
              "      <td>0.87</td>\n",
              "    </tr>\n",
              "    <tr>\n",
              "      <th>20</th>\n",
              "      <td>2</td>\n",
              "      <td>2</td>\n",
              "      <td>0.45</td>\n",
              "    </tr>\n",
              "    <tr>\n",
              "      <th>21</th>\n",
              "      <td>2</td>\n",
              "      <td>2</td>\n",
              "      <td>-0.97</td>\n",
              "    </tr>\n",
              "    <tr>\n",
              "      <th>22</th>\n",
              "      <td>2</td>\n",
              "      <td>3</td>\n",
              "      <td>1.32</td>\n",
              "    </tr>\n",
              "    <tr>\n",
              "      <th>23</th>\n",
              "      <td>2</td>\n",
              "      <td>3</td>\n",
              "      <td>1.79</td>\n",
              "    </tr>\n",
              "    <tr>\n",
              "      <th>24</th>\n",
              "      <td>2</td>\n",
              "      <td>3</td>\n",
              "      <td>-1.82</td>\n",
              "    </tr>\n",
              "    <tr>\n",
              "      <th>25</th>\n",
              "      <td>2</td>\n",
              "      <td>3</td>\n",
              "      <td>1.36</td>\n",
              "    </tr>\n",
              "    <tr>\n",
              "      <th>26</th>\n",
              "      <td>2</td>\n",
              "      <td>3</td>\n",
              "      <td>0.96</td>\n",
              "    </tr>\n",
              "  </tbody>\n",
              "</table>\n",
              "</div>\n",
              "    <div class=\"colab-df-buttons\">\n",
              "\n",
              "  <div class=\"colab-df-container\">\n",
              "    <button class=\"colab-df-convert\" onclick=\"convertToInteractive('df-02519cc4-7426-4a02-91a4-b71440e8d48e')\"\n",
              "            title=\"Convert this dataframe to an interactive table.\"\n",
              "            style=\"display:none;\">\n",
              "\n",
              "  <svg xmlns=\"http://www.w3.org/2000/svg\" height=\"24px\" viewBox=\"0 -960 960 960\">\n",
              "    <path d=\"M120-120v-720h720v720H120Zm60-500h600v-160H180v160Zm220 220h160v-160H400v160Zm0 220h160v-160H400v160ZM180-400h160v-160H180v160Zm440 0h160v-160H620v160ZM180-180h160v-160H180v160Zm440 0h160v-160H620v160Z\"/>\n",
              "  </svg>\n",
              "    </button>\n",
              "\n",
              "  <style>\n",
              "    .colab-df-container {\n",
              "      display:flex;\n",
              "      gap: 12px;\n",
              "    }\n",
              "\n",
              "    .colab-df-convert {\n",
              "      background-color: #E8F0FE;\n",
              "      border: none;\n",
              "      border-radius: 50%;\n",
              "      cursor: pointer;\n",
              "      display: none;\n",
              "      fill: #1967D2;\n",
              "      height: 32px;\n",
              "      padding: 0 0 0 0;\n",
              "      width: 32px;\n",
              "    }\n",
              "\n",
              "    .colab-df-convert:hover {\n",
              "      background-color: #E2EBFA;\n",
              "      box-shadow: 0px 1px 2px rgba(60, 64, 67, 0.3), 0px 1px 3px 1px rgba(60, 64, 67, 0.15);\n",
              "      fill: #174EA6;\n",
              "    }\n",
              "\n",
              "    .colab-df-buttons div {\n",
              "      margin-bottom: 4px;\n",
              "    }\n",
              "\n",
              "    [theme=dark] .colab-df-convert {\n",
              "      background-color: #3B4455;\n",
              "      fill: #D2E3FC;\n",
              "    }\n",
              "\n",
              "    [theme=dark] .colab-df-convert:hover {\n",
              "      background-color: #434B5C;\n",
              "      box-shadow: 0px 1px 3px 1px rgba(0, 0, 0, 0.15);\n",
              "      filter: drop-shadow(0px 1px 2px rgba(0, 0, 0, 0.3));\n",
              "      fill: #FFFFFF;\n",
              "    }\n",
              "  </style>\n",
              "\n",
              "    <script>\n",
              "      const buttonEl =\n",
              "        document.querySelector('#df-02519cc4-7426-4a02-91a4-b71440e8d48e button.colab-df-convert');\n",
              "      buttonEl.style.display =\n",
              "        google.colab.kernel.accessAllowed ? 'block' : 'none';\n",
              "\n",
              "      async function convertToInteractive(key) {\n",
              "        const element = document.querySelector('#df-02519cc4-7426-4a02-91a4-b71440e8d48e');\n",
              "        const dataTable =\n",
              "          await google.colab.kernel.invokeFunction('convertToInteractive',\n",
              "                                                    [key], {});\n",
              "        if (!dataTable) return;\n",
              "\n",
              "        const docLinkHtml = 'Like what you see? Visit the ' +\n",
              "          '<a target=\"_blank\" href=https://colab.research.google.com/notebooks/data_table.ipynb>data table notebook</a>'\n",
              "          + ' to learn more about interactive tables.';\n",
              "        element.innerHTML = '';\n",
              "        dataTable['output_type'] = 'display_data';\n",
              "        await google.colab.output.renderOutput(dataTable, element);\n",
              "        const docLink = document.createElement('div');\n",
              "        docLink.innerHTML = docLinkHtml;\n",
              "        element.appendChild(docLink);\n",
              "      }\n",
              "    </script>\n",
              "  </div>\n",
              "\n",
              "\n",
              "    <div id=\"df-c1e5fb72-cc0f-44da-a423-3a79396261f6\">\n",
              "      <button class=\"colab-df-quickchart\" onclick=\"quickchart('df-c1e5fb72-cc0f-44da-a423-3a79396261f6')\"\n",
              "                title=\"Suggest charts\"\n",
              "                style=\"display:none;\">\n",
              "\n",
              "<svg xmlns=\"http://www.w3.org/2000/svg\" height=\"24px\"viewBox=\"0 0 24 24\"\n",
              "     width=\"24px\">\n",
              "    <g>\n",
              "        <path d=\"M19 3H5c-1.1 0-2 .9-2 2v14c0 1.1.9 2 2 2h14c1.1 0 2-.9 2-2V5c0-1.1-.9-2-2-2zM9 17H7v-7h2v7zm4 0h-2V7h2v10zm4 0h-2v-4h2v4z\"/>\n",
              "    </g>\n",
              "</svg>\n",
              "      </button>\n",
              "\n",
              "<style>\n",
              "  .colab-df-quickchart {\n",
              "      --bg-color: #E8F0FE;\n",
              "      --fill-color: #1967D2;\n",
              "      --hover-bg-color: #E2EBFA;\n",
              "      --hover-fill-color: #174EA6;\n",
              "      --disabled-fill-color: #AAA;\n",
              "      --disabled-bg-color: #DDD;\n",
              "  }\n",
              "\n",
              "  [theme=dark] .colab-df-quickchart {\n",
              "      --bg-color: #3B4455;\n",
              "      --fill-color: #D2E3FC;\n",
              "      --hover-bg-color: #434B5C;\n",
              "      --hover-fill-color: #FFFFFF;\n",
              "      --disabled-bg-color: #3B4455;\n",
              "      --disabled-fill-color: #666;\n",
              "  }\n",
              "\n",
              "  .colab-df-quickchart {\n",
              "    background-color: var(--bg-color);\n",
              "    border: none;\n",
              "    border-radius: 50%;\n",
              "    cursor: pointer;\n",
              "    display: none;\n",
              "    fill: var(--fill-color);\n",
              "    height: 32px;\n",
              "    padding: 0;\n",
              "    width: 32px;\n",
              "  }\n",
              "\n",
              "  .colab-df-quickchart:hover {\n",
              "    background-color: var(--hover-bg-color);\n",
              "    box-shadow: 0 1px 2px rgba(60, 64, 67, 0.3), 0 1px 3px 1px rgba(60, 64, 67, 0.15);\n",
              "    fill: var(--button-hover-fill-color);\n",
              "  }\n",
              "\n",
              "  .colab-df-quickchart-complete:disabled,\n",
              "  .colab-df-quickchart-complete:disabled:hover {\n",
              "    background-color: var(--disabled-bg-color);\n",
              "    fill: var(--disabled-fill-color);\n",
              "    box-shadow: none;\n",
              "  }\n",
              "\n",
              "  .colab-df-spinner {\n",
              "    border: 2px solid var(--fill-color);\n",
              "    border-color: transparent;\n",
              "    border-bottom-color: var(--fill-color);\n",
              "    animation:\n",
              "      spin 1s steps(1) infinite;\n",
              "  }\n",
              "\n",
              "  @keyframes spin {\n",
              "    0% {\n",
              "      border-color: transparent;\n",
              "      border-bottom-color: var(--fill-color);\n",
              "      border-left-color: var(--fill-color);\n",
              "    }\n",
              "    20% {\n",
              "      border-color: transparent;\n",
              "      border-left-color: var(--fill-color);\n",
              "      border-top-color: var(--fill-color);\n",
              "    }\n",
              "    30% {\n",
              "      border-color: transparent;\n",
              "      border-left-color: var(--fill-color);\n",
              "      border-top-color: var(--fill-color);\n",
              "      border-right-color: var(--fill-color);\n",
              "    }\n",
              "    40% {\n",
              "      border-color: transparent;\n",
              "      border-right-color: var(--fill-color);\n",
              "      border-top-color: var(--fill-color);\n",
              "    }\n",
              "    60% {\n",
              "      border-color: transparent;\n",
              "      border-right-color: var(--fill-color);\n",
              "    }\n",
              "    80% {\n",
              "      border-color: transparent;\n",
              "      border-right-color: var(--fill-color);\n",
              "      border-bottom-color: var(--fill-color);\n",
              "    }\n",
              "    90% {\n",
              "      border-color: transparent;\n",
              "      border-bottom-color: var(--fill-color);\n",
              "    }\n",
              "  }\n",
              "</style>\n",
              "\n",
              "      <script>\n",
              "        async function quickchart(key) {\n",
              "          const quickchartButtonEl =\n",
              "            document.querySelector('#' + key + ' button');\n",
              "          quickchartButtonEl.disabled = true;  // To prevent multiple clicks.\n",
              "          quickchartButtonEl.classList.add('colab-df-spinner');\n",
              "          try {\n",
              "            const charts = await google.colab.kernel.invokeFunction(\n",
              "                'suggestCharts', [key], {});\n",
              "          } catch (error) {\n",
              "            console.error('Error during call to suggestCharts:', error);\n",
              "          }\n",
              "          quickchartButtonEl.classList.remove('colab-df-spinner');\n",
              "          quickchartButtonEl.classList.add('colab-df-quickchart-complete');\n",
              "        }\n",
              "        (() => {\n",
              "          let quickchartButtonEl =\n",
              "            document.querySelector('#df-c1e5fb72-cc0f-44da-a423-3a79396261f6 button');\n",
              "          quickchartButtonEl.style.display =\n",
              "            google.colab.kernel.accessAllowed ? 'block' : 'none';\n",
              "        })();\n",
              "      </script>\n",
              "    </div>\n",
              "    </div>\n",
              "  </div>\n"
            ],
            "application/vnd.google.colaboratory.intrinsic+json": {
              "type": "dataframe",
              "variable_name": "df",
              "summary": "{\n  \"name\": \"df\",\n  \"rows\": 27,\n  \"fields\": [\n    {\n      \"column\": \"A\",\n      \"properties\": {\n        \"dtype\": \"number\",\n        \"std\": 0,\n        \"min\": 1,\n        \"max\": 2,\n        \"num_unique_values\": 2,\n        \"samples\": [\n          2,\n          1\n        ],\n        \"semantic_type\": \"\",\n        \"description\": \"\"\n      }\n    },\n    {\n      \"column\": \"B\",\n      \"properties\": {\n        \"dtype\": \"number\",\n        \"std\": 0,\n        \"min\": 1,\n        \"max\": 3,\n        \"num_unique_values\": 3,\n        \"samples\": [\n          1,\n          2\n        ],\n        \"semantic_type\": \"\",\n        \"description\": \"\"\n      }\n    },\n    {\n      \"column\": \"response\",\n      \"properties\": {\n        \"dtype\": \"number\",\n        \"std\": 2.2159653797166063,\n        \"min\": -3.41,\n        \"max\": 6.0,\n        \"num_unique_values\": 26,\n        \"samples\": [\n          -1.54,\n          0.47\n        ],\n        \"semantic_type\": \"\",\n        \"description\": \"\"\n      }\n    }\n  ]\n}"
            }
          },
          "metadata": {},
          "execution_count": 3
        }
      ]
    },
    {
      "cell_type": "markdown",
      "source": [
        "Модель порождения данных:\n",
        "\n",
        "$$\n",
        "y_{ijl} = \\mu_{ij} + \\varepsilon_{ijl}, \\quad l = 1, \\dots, n_{ij}, \\quad i = 1, \\dots, k, \\quad j = 1, \\dots, m, \\tag{1}\n",
        "$$\n",
        "\n",
        "где:\n",
        "- $y_{ijl}$ — $l$-ое наблюдаемое значение отклика для $i$-го уровня фактора $A$ и $j$-го уровня фактора $B$;  \n",
        "- $\\mu_{ij}$ — среднее значение отклика для $i$-го уровня фактора $A$ и $j$-го уровня фактора $B$;  \n",
        "- $\\varepsilon_{ijl}$ — независимые случайные величины с математическим ожиданием равным нулю и одинаковой дисперсией.\n",
        "\n",
        "\n",
        "Пусть:\n",
        "- $\\mu$ — общее среднее;  \n",
        "- $\\mu_{i*}$ — среднее для $i$-го уровня фактора $A$;  \n",
        "- $\\mu_{*j}$ — среднее для $j$-го уровня фактора $B$.  \n",
        "\n",
        "Тогда:\n",
        "$$\n",
        "\\mu = \\frac{1}{km} \\sum_{i=1}^k \\sum_{j=1}^m \\mu_{ij}, \\quad\n",
        "\\mu_{i*} = \\frac{1}{m} \\sum_{j=1}^m \\mu_{ij}, \\quad\n",
        "\\mu_{*j} = \\frac{1}{k} \\sum_{i=1}^k \\mu_{ij}\n",
        "$$\n",
        "\n",
        "Далее, положим:\n",
        "\n",
        "$$\n",
        "\\alpha_i = \\mu_{i*} - \\mu,\n",
        "$$\n",
        "\n",
        "$$\n",
        "\\beta_j = \\mu_{*j} - \\mu,\n",
        "$$\n",
        "\n",
        "$$\n",
        "\\gamma_{ij} = \\mu_{ij} - \\mu - (\\alpha_i + \\beta_j) = \\mu_{ij} - (\\mu_{i*} + \\mu_{*j}) + \\mu,\n",
        "$$\n",
        "\n",
        "\n",
        "и перепишем линейную модель в виде:\n",
        "\n",
        "$$\n",
        "y_{ijl} = \\mu_{ij} + \\epsilon_{ijl} = \\mu + \\alpha_i + \\beta_j + \\gamma_{ij} + \\epsilon_{ijl}, \\quad l = 1, n_{ij}, \\quad i = 1, k, \\quad j = 1, m \\tag{2}\n",
        "$$\n",
        "\n",
        "- $\\alpha_i$ — главный эффект i-го уровня фактора A;  \n",
        "- $\\beta_j$ — главный эффект j-го уровня фактора B;  \n",
        "- $\\gamma_{ij}$ — эффект взаимодействия i-го уровня фактора A и j-го уровня фактора B.  \n",
        "\n",
        "Перепишем (2) терминах линейной регрессионной модели:\n",
        "\n",
        "$$\n",
        "y = \\mu + \\alpha_1 x_{A1} + \\cdots + \\alpha_k x_{Ak} + \\beta_1 x_{B1} + \\cdots + \\beta_m x_{Bm} + \\gamma_{11} x_{A1} x_{B1} + \\cdots + \\gamma_{km} x_{Ak} x_{Bm} + \\epsilon, \\tag{3}\n",
        "$$\n",
        "\n",
        "где:\n",
        "\n",
        "$x_{Ai} = 1$, если наблюдение соответствует $i$-му уровню фактора $A$ и $x_{Ai} = 0$ иначе;\n",
        "\n",
        "$x_{Bj} = 1$, если наблюдение соответствует $j$-му уровню фактора $B$ и $x_{Bj} = 0$ иначе.\n",
        "\n",
        "Если используются ограничения:\n",
        "\n",
        "$$\n",
        "\\sum_{i=1}^k \\alpha_i = 0, \\quad \\sum_{j=1}^m \\beta_j = 0, \\quad \\sum_{i=1}^k \\gamma_{ij} = 0 \\quad (j = \\overline{1,m}), \\quad \\sum_{j=1}^m \\gamma_{ij} = 0,\n",
        "$$\n",
        "\n",
        "(5)\n",
        "\n",
        "то матрицу $\\tilde{X}$ модели полного ранга можно построить следующим образом.\n",
        "\n",
        "Столбцы $\\tilde{x}_{A1}, \\tilde{x}_{A2}, \\dots, \\tilde{x}_{Ak-1}, \\tilde{x}_{B1}, \\tilde{x}_{B2}, \\dots, \\tilde{x}_{Bm-1}$, соответствующие эффектам факторов $A$ и $B$, формируем также как в однофакторной модели для ограничений вида\n",
        "\n",
        "$$\n",
        "\\sum_{i=1}^k \\alpha_i = 0, \\quad \\sum_{j=1}^m \\beta_j = 0.\n",
        "$$\n",
        "\n",
        "Столбцы, соответствующие эффекту взаимодействия, получаем, перемножая столбцы $\\tilde{x}_{A1}, \\tilde{x}_{A2}, \\dots, \\tilde{x}_{Ak-1}$ и $\\tilde{x}_{B1}, \\tilde{x}_{B2}, \\dots, \\tilde{x}_{Bm-1}$. Матрица $\\tilde{X}$ содержит также столбец из единиц, соответствующий эффекту общего среднего.\n",
        "\n",
        "Введем обозначения для суммы квадратов остатков линейной модели:\n",
        "\n",
        "- $R(\\mu)$ - модель с $\\mu$\n",
        "- $R(\\mu, A)$ - модель с $\\mu$ и $\\alpha_i$ ($i=1,\\dots,k$)\n",
        "- $R(\\mu, B)$ - модель с $\\mu$ и $\\beta_j$ ($j=1,\\dots,m$)\n",
        "- $R(\\mu, A, B)$ - модель с $\\mu$, $\\alpha_i$, $\\beta_j$\n",
        "- $R(\\mu, A, B, AB)$ - полная модель с $\\mu$, $\\alpha_i$, $\\beta_j$, $\\gamma_{ij}$\n",
        "\n",
        "Далее, под записью $SS(A|B)$ будем понимать сумму квадратов, соответствующих эффекту фактора $A$, после исключения суммы квадратов, соответствующей эффекту фактора $B$.\n",
        "\n",
        "\n",
        "Суммы квадратов I типа для двухфакторной модели с первым фактором $A$:\n",
        "\n",
        "$$\n",
        "\\begin{aligned}\n",
        "\\text{Эффект } A &: SS(A) = R(\\mu) - R(\\mu, A) \\\\\n",
        "\\text{Эффект } B &: SS(B|A) = R(\\mu, A) - R(\\mu, A, B) \\\\\n",
        "\\text{Эффект } AB &: SS(AB|A,B) = R(\\mu, A, B) - R(\\mu, A, B, AB)\n",
        "\\end{aligned}\n",
        "$$\n",
        "\n",
        "Все суммы определяются однозначно, независимо от условий на параметры модели. Для их получения требуется построить 4 различные модели.\n",
        "\n",
        "Статистика критерия формируется на основе F-отношения средних сумм квадратов эффекта и остатков."
      ],
      "metadata": {
        "id": "b7PDL3zW4Qe5"
      }
    },
    {
      "cell_type": "code",
      "source": [
        "# Строим матрицу X\n",
        "\n",
        "# Находим столбцы, соответствующие эффекту фактора A\n",
        "X_A_init = np.zeros([len(Y), 3])\n",
        "# Заполнение нулевого столбца\n",
        "for row in X_A_init:\n",
        "  row[0] = 1\n",
        "# Заполнение первого столбца\n",
        "for row_num in range(len(X_A_init)):\n",
        "  if A[row_num] == 1:\n",
        "    X_A_init[row_num][1] = 1\n",
        "# Заполнение второго столбца\n",
        "for row_num in range(len(X_A_init)):\n",
        "  if A[row_num] == 2:\n",
        "    X_A_init[row_num][2] = 1\n",
        "X_A_init"
      ],
      "metadata": {
        "id": "2i4_grouuCfd",
        "colab": {
          "base_uri": "https://localhost:8080/"
        },
        "outputId": "5600683b-b05d-4529-a2b2-ae665cce0f3f"
      },
      "execution_count": null,
      "outputs": [
        {
          "output_type": "execute_result",
          "data": {
            "text/plain": [
              "array([[1., 1., 0.],\n",
              "       [1., 1., 0.],\n",
              "       [1., 1., 0.],\n",
              "       [1., 1., 0.],\n",
              "       [1., 1., 0.],\n",
              "       [1., 1., 0.],\n",
              "       [1., 1., 0.],\n",
              "       [1., 1., 0.],\n",
              "       [1., 1., 0.],\n",
              "       [1., 1., 0.],\n",
              "       [1., 1., 0.],\n",
              "       [1., 1., 0.],\n",
              "       [1., 1., 0.],\n",
              "       [1., 0., 1.],\n",
              "       [1., 0., 1.],\n",
              "       [1., 0., 1.],\n",
              "       [1., 0., 1.],\n",
              "       [1., 0., 1.],\n",
              "       [1., 0., 1.],\n",
              "       [1., 0., 1.],\n",
              "       [1., 0., 1.],\n",
              "       [1., 0., 1.],\n",
              "       [1., 0., 1.],\n",
              "       [1., 0., 1.],\n",
              "       [1., 0., 1.],\n",
              "       [1., 0., 1.],\n",
              "       [1., 0., 1.]])"
            ]
          },
          "metadata": {},
          "execution_count": 4
        }
      ]
    },
    {
      "cell_type": "code",
      "source": [
        "# Найдем столбец X_A1 c учётом ограничений\n",
        "X_A1 = np.zeros([len(Y), 1])\n",
        "# Заполнение первого столбца\n",
        "for row_num in range(len(X_A_init)):\n",
        "  X_A1[row_num][0] = X_A_init[row_num][1] - X_A_init[row_num][2]\n",
        "X_A1"
      ],
      "metadata": {
        "colab": {
          "base_uri": "https://localhost:8080/"
        },
        "id": "eN0n74T3Jn7U",
        "outputId": "75305517-edec-44c5-a7c4-92106e7374fd"
      },
      "execution_count": null,
      "outputs": [
        {
          "output_type": "execute_result",
          "data": {
            "text/plain": [
              "array([[ 1.],\n",
              "       [ 1.],\n",
              "       [ 1.],\n",
              "       [ 1.],\n",
              "       [ 1.],\n",
              "       [ 1.],\n",
              "       [ 1.],\n",
              "       [ 1.],\n",
              "       [ 1.],\n",
              "       [ 1.],\n",
              "       [ 1.],\n",
              "       [ 1.],\n",
              "       [ 1.],\n",
              "       [-1.],\n",
              "       [-1.],\n",
              "       [-1.],\n",
              "       [-1.],\n",
              "       [-1.],\n",
              "       [-1.],\n",
              "       [-1.],\n",
              "       [-1.],\n",
              "       [-1.],\n",
              "       [-1.],\n",
              "       [-1.],\n",
              "       [-1.],\n",
              "       [-1.],\n",
              "       [-1.]])"
            ]
          },
          "metadata": {},
          "execution_count": 5
        }
      ]
    },
    {
      "cell_type": "code",
      "source": [
        "# Находим столбцы, соответствующие эффекту фактора B\n",
        "X_B_init = np.zeros([len(Y), 4])\n",
        "# Заполнение нулевого столбца\n",
        "for row in X_B_init:\n",
        "  row[0] = 1\n",
        "# Заполнение первого столбца\n",
        "for row_num in range(len(X_B_init)):\n",
        "  if B[row_num] == 1:\n",
        "    X_B_init[row_num][1] = 1\n",
        "# Заполнение второго столбца\n",
        "for row_num in range(len(X_B_init)):\n",
        "  if B[row_num] == 2:\n",
        "    X_B_init[row_num][2] = 1\n",
        "# Заполнение третьего столбца\n",
        "for row_num in range(len(X_B_init)):\n",
        "  if B[row_num] == 3:\n",
        "    X_B_init[row_num][3] = 1\n",
        "X_B_init"
      ],
      "metadata": {
        "colab": {
          "base_uri": "https://localhost:8080/"
        },
        "id": "NRDUjp_jKPo_",
        "outputId": "760faf3b-881f-41d9-a82a-4d5dab5c94e8"
      },
      "execution_count": null,
      "outputs": [
        {
          "output_type": "execute_result",
          "data": {
            "text/plain": [
              "array([[1., 1., 0., 0.],\n",
              "       [1., 1., 0., 0.],\n",
              "       [1., 1., 0., 0.],\n",
              "       [1., 1., 0., 0.],\n",
              "       [1., 0., 1., 0.],\n",
              "       [1., 0., 1., 0.],\n",
              "       [1., 0., 1., 0.],\n",
              "       [1., 0., 0., 1.],\n",
              "       [1., 0., 0., 1.],\n",
              "       [1., 0., 0., 1.],\n",
              "       [1., 0., 0., 1.],\n",
              "       [1., 0., 0., 1.],\n",
              "       [1., 0., 0., 1.],\n",
              "       [1., 1., 0., 0.],\n",
              "       [1., 1., 0., 0.],\n",
              "       [1., 1., 0., 0.],\n",
              "       [1., 1., 0., 0.],\n",
              "       [1., 1., 0., 0.],\n",
              "       [1., 0., 1., 0.],\n",
              "       [1., 0., 1., 0.],\n",
              "       [1., 0., 1., 0.],\n",
              "       [1., 0., 1., 0.],\n",
              "       [1., 0., 0., 1.],\n",
              "       [1., 0., 0., 1.],\n",
              "       [1., 0., 0., 1.],\n",
              "       [1., 0., 0., 1.],\n",
              "       [1., 0., 0., 1.]])"
            ]
          },
          "metadata": {},
          "execution_count": 6
        }
      ]
    },
    {
      "cell_type": "code",
      "source": [
        "# Найдём столбцы X_B1 и X_B2 c учётом ограничений\n",
        "X_B1 = np.zeros([len(Y), 1])\n",
        "X_B2 = np.zeros([len(Y), 1])\n",
        "# Заполнение первого столбца\n",
        "for row_num in range(len(X_B_init)):\n",
        "  X_B1[row_num][0] = X_B_init[row_num][1] - X_B_init[row_num][2]\n",
        "# Заполнение второго столбца\n",
        "for row_num in range(len(X_B_init)):\n",
        "  X_B2[row_num][0] = X_B_init[row_num][2] - X_B_init[row_num][3]\n",
        "X_B1"
      ],
      "metadata": {
        "colab": {
          "base_uri": "https://localhost:8080/"
        },
        "id": "0s29uw3TK5H3",
        "outputId": "8b9cb109-ec58-48f4-9c69-0c66a7d28396"
      },
      "execution_count": null,
      "outputs": [
        {
          "output_type": "execute_result",
          "data": {
            "text/plain": [
              "array([[ 1.],\n",
              "       [ 1.],\n",
              "       [ 1.],\n",
              "       [ 1.],\n",
              "       [-1.],\n",
              "       [-1.],\n",
              "       [-1.],\n",
              "       [ 0.],\n",
              "       [ 0.],\n",
              "       [ 0.],\n",
              "       [ 0.],\n",
              "       [ 0.],\n",
              "       [ 0.],\n",
              "       [ 1.],\n",
              "       [ 1.],\n",
              "       [ 1.],\n",
              "       [ 1.],\n",
              "       [ 1.],\n",
              "       [-1.],\n",
              "       [-1.],\n",
              "       [-1.],\n",
              "       [-1.],\n",
              "       [ 0.],\n",
              "       [ 0.],\n",
              "       [ 0.],\n",
              "       [ 0.],\n",
              "       [ 0.]])"
            ]
          },
          "metadata": {},
          "execution_count": 7
        }
      ]
    },
    {
      "cell_type": "code",
      "source": [
        "X_B2"
      ],
      "metadata": {
        "colab": {
          "base_uri": "https://localhost:8080/"
        },
        "id": "Vph8O_mKOVXT",
        "outputId": "52e61fe5-ae71-4b35-9b3b-deac0e92f0ac"
      },
      "execution_count": null,
      "outputs": [
        {
          "output_type": "execute_result",
          "data": {
            "text/plain": [
              "array([[ 0.],\n",
              "       [ 0.],\n",
              "       [ 0.],\n",
              "       [ 0.],\n",
              "       [ 1.],\n",
              "       [ 1.],\n",
              "       [ 1.],\n",
              "       [-1.],\n",
              "       [-1.],\n",
              "       [-1.],\n",
              "       [-1.],\n",
              "       [-1.],\n",
              "       [-1.],\n",
              "       [ 0.],\n",
              "       [ 0.],\n",
              "       [ 0.],\n",
              "       [ 0.],\n",
              "       [ 0.],\n",
              "       [ 1.],\n",
              "       [ 1.],\n",
              "       [ 1.],\n",
              "       [ 1.],\n",
              "       [-1.],\n",
              "       [-1.],\n",
              "       [-1.],\n",
              "       [-1.],\n",
              "       [-1.]])"
            ]
          },
          "metadata": {},
          "execution_count": 8
        }
      ]
    },
    {
      "cell_type": "code",
      "source": [
        "# Находим столбцы, соответствующие эффекту взаимодействия A и B\n",
        "X_A1_B1 = X_A1 * X_B1\n",
        "X_A1_B2 = X_A1 * X_B2"
      ],
      "metadata": {
        "id": "lZEuvPL4LST4"
      },
      "execution_count": null,
      "outputs": []
    },
    {
      "cell_type": "code",
      "source": [
        "# Находим матрицу X\n",
        "X_1 = np.ones([len(Y), 1])\n",
        "X = np.column_stack((X_1, X_A1, X_B1, X_B2, X_A1_B1, X_A1_B2))\n",
        "X"
      ],
      "metadata": {
        "colab": {
          "base_uri": "https://localhost:8080/"
        },
        "id": "hYGs_P1vTRDJ",
        "outputId": "2312e52c-c178-41bd-ca4c-2775a6f3edf3"
      },
      "execution_count": null,
      "outputs": [
        {
          "output_type": "execute_result",
          "data": {
            "text/plain": [
              "array([[ 1.,  1.,  1.,  0.,  1.,  0.],\n",
              "       [ 1.,  1.,  1.,  0.,  1.,  0.],\n",
              "       [ 1.,  1.,  1.,  0.,  1.,  0.],\n",
              "       [ 1.,  1.,  1.,  0.,  1.,  0.],\n",
              "       [ 1.,  1., -1.,  1., -1.,  1.],\n",
              "       [ 1.,  1., -1.,  1., -1.,  1.],\n",
              "       [ 1.,  1., -1.,  1., -1.,  1.],\n",
              "       [ 1.,  1.,  0., -1.,  0., -1.],\n",
              "       [ 1.,  1.,  0., -1.,  0., -1.],\n",
              "       [ 1.,  1.,  0., -1.,  0., -1.],\n",
              "       [ 1.,  1.,  0., -1.,  0., -1.],\n",
              "       [ 1.,  1.,  0., -1.,  0., -1.],\n",
              "       [ 1.,  1.,  0., -1.,  0., -1.],\n",
              "       [ 1., -1.,  1.,  0., -1., -0.],\n",
              "       [ 1., -1.,  1.,  0., -1., -0.],\n",
              "       [ 1., -1.,  1.,  0., -1., -0.],\n",
              "       [ 1., -1.,  1.,  0., -1., -0.],\n",
              "       [ 1., -1.,  1.,  0., -1., -0.],\n",
              "       [ 1., -1., -1.,  1.,  1., -1.],\n",
              "       [ 1., -1., -1.,  1.,  1., -1.],\n",
              "       [ 1., -1., -1.,  1.,  1., -1.],\n",
              "       [ 1., -1., -1.,  1.,  1., -1.],\n",
              "       [ 1., -1.,  0., -1., -0.,  1.],\n",
              "       [ 1., -1.,  0., -1., -0.,  1.],\n",
              "       [ 1., -1.,  0., -1., -0.,  1.],\n",
              "       [ 1., -1.,  0., -1., -0.,  1.],\n",
              "       [ 1., -1.,  0., -1., -0.,  1.]])"
            ]
          },
          "metadata": {},
          "execution_count": 10
        }
      ]
    },
    {
      "cell_type": "markdown",
      "source": [
        "Матрица $\\tilde{X}$ найдена. Теперь построим следующие 4 регрессионные модели:\n",
        "\n",
        "- $R(\\mu)$ - модель с $\\mu$\n",
        "- $R(\\mu, A)$ - модель с $\\mu$ и $\\alpha_i$ ($i=1,\\dots,k$)\n",
        "- $R(\\mu, A, B)$ - модель с $\\mu$, $\\alpha_i$, $\\beta_j$\n",
        "- $R(\\mu, A, B, AB)$ - полная модель с $\\mu$, $\\alpha_i$, $\\beta_j$, $\\gamma_{ij}$"
      ],
      "metadata": {
        "id": "Fv5h6_i8VkzQ"
      }
    },
    {
      "cell_type": "markdown",
      "source": [
        "Нахождение вектора оценок параметров регрессии:\n",
        "$$\n",
        "\\hat{B} = K^{-1}Z,\n",
        "$$\n",
        "\n",
        "где:\n",
        "\n",
        "$$\n",
        "K = X^TX, \\quad Z = X^TY,\n",
        "$$\n",
        "\n",
        "$$\n",
        "X =\n",
        "\\begin{pmatrix}\n",
        "1 & x_1^{(1)} & \\cdots & x_k^{(1)} \\\\\n",
        "1 & x_1^{(2)} & \\cdots & x_k^{(2)} \\\\\n",
        "\\vdots & \\vdots & \\ddots & \\vdots \\\\\n",
        "1 & x_1^{(n)} & \\cdots & x_k^{(n)}\n",
        "\\end{pmatrix}\n",
        "=\n",
        "\\begin{pmatrix}\n",
        "1 & \\varphi_1(x_1) & \\cdots & \\varphi_k(x_1) \\\\\n",
        "1 & \\varphi_1(x_2) & \\cdots & \\varphi_k(x_2) \\\\\n",
        "\\vdots & \\vdots & \\ddots & \\vdots \\\\\n",
        "1 & \\varphi_1(x_n) & \\cdots & \\varphi_k(x_n)\n",
        "\\end{pmatrix}, \\quad\n",
        "Y =\n",
        "\\begin{pmatrix}\n",
        "y_1 \\\\\n",
        "y_2 \\\\\n",
        "\\vdots \\\\\n",
        "y_n\n",
        "\\end{pmatrix}\n",
        "$$"
      ],
      "metadata": {
        "id": "z_ANTrQgWopM"
      }
    },
    {
      "cell_type": "code",
      "source": [
        "# Функция для нахождения оценки параметров уравнения множественной линейной регрессии\n",
        "def mul_linear_reg_params(X, Y):\n",
        "  K = X.T @ X\n",
        "  Z = X.T @ Y\n",
        "  res = np.linalg.inv(K) @ Z\n",
        "  return res\n",
        "\n",
        "# Векторы оценок параметров для каждой из 4-х моделей\n",
        "B_mu = mul_linear_reg_params(X[:, [0]], Y)\n",
        "B_mu_A = mul_linear_reg_params(X[:, [0, 1]], Y)\n",
        "B_mu_A_B = mul_linear_reg_params(X[:, [0, 1, 2, 3]], Y)\n",
        "B_mu_A_B_AB = mul_linear_reg_params(X, Y)\n",
        "\n",
        "print(f'модель с μ: y = {round(B_mu[0], 2)}')\n",
        "print(f'модель с μ и αi: y = {round(B_mu_A[0], 2)} + ({round(B_mu_A[1], 2)})*X_A1')\n",
        "print(f'модель с μ, αi, βj: y = {round(B_mu_A_B[0], 2)} + ({round(B_mu_A_B[1], 2)})*X_A1 + {round(B_mu_A_B[2], 2)}*X_B1 + {round(B_mu_A_B[3], 2)}*X_B2')\n",
        "print(f'полная модель с μ, αi, βj, γij: y = {round(B_mu_A_B_AB[0], 2)} + {round(B_mu_A_B_AB[1], 2)}*X_A1 + {round(B_mu_A_B_AB[2], 2)}*X_B1 + {round(B_mu_A_B_AB[3], 2)}*X_B2 + ({round(B_mu_A_B_AB[4], 2)})*X_A1_B1 + {round(B_mu_A_B_AB[5], 2)}*X_A1_B2')"
      ],
      "metadata": {
        "id": "BPWt3JwBZSE3",
        "colab": {
          "base_uri": "https://localhost:8080/"
        },
        "outputId": "76971bbc-14f2-4096-c37b-6dd798cf99c2"
      },
      "execution_count": null,
      "outputs": [
        {
          "output_type": "stream",
          "name": "stdout",
          "text": [
            "модель с μ: y = 1.14\n",
            "модель с μ и αi: y = 1.13 + (-0.2)*X_A1\n",
            "модель с μ, αi, βj: y = 1.32 + (-0.07)*X_A1 + 0.93*X_B1 + 1.67*X_B2\n",
            "полная модель с μ, αi, βj, γij: y = 1.43 + 0.17*X_A1 + 0.75*X_B1 + 1.7*X_B2 + (-0.84)*X_A1_B1 + 1.16*X_A1_B2\n"
          ]
        }
      ]
    },
    {
      "cell_type": "code",
      "source": [
        "# Найдем суммы квадратов остатков для каждой модели\n",
        "R_mu = sum([(Y[i] - (B_mu[0]*X[i][0]))**2 for i in range(len(Y))])\n",
        "R_mu_A = sum([(Y[i] - (B_mu_A[0]*X[i][0] + B_mu_A[1]*X[i][1]))**2 for i in range(len(Y))])\n",
        "R_mu_A_B = sum([(Y[i] - (B_mu_A_B[0]*X[i][0] + B_mu_A_B[1]*X[i][1] + B_mu_A_B[2]*X[i][2] + B_mu_A_B[3]*X[i][3]))**2 for i in range(len(Y))])\n",
        "R_mu_A_B_AB = sum([(Y[i] - (B_mu_A_B_AB[0]*X[i][0] + B_mu_A_B_AB[1]*X[i][1] + B_mu_A_B_AB[2]*X[i][2] + B_mu_A_B_AB[3]*X[i][3] + B_mu_A_B_AB[4]*X[i][4] + B_mu_A_B_AB[5]*X[i][5]))**2 for i in range(len(Y))])\n",
        "\n",
        "# Найдём суммы квадратов для каждого эффекта\n",
        "SS_A = R_mu - R_mu_A\n",
        "SS_B = R_mu_A - R_mu_A_B\n",
        "SS_AB = R_mu_A_B - R_mu_A_B_AB\n",
        "\n",
        "# Сумма квадратов остатков для полной модели\n",
        "SS_R = R_mu_A_B_AB"
      ],
      "metadata": {
        "id": "1r4eYasw4vzm"
      },
      "execution_count": null,
      "outputs": []
    },
    {
      "cell_type": "markdown",
      "source": [
        "Найдём средние суммы квадратов эффектов и остатков."
      ],
      "metadata": {
        "id": "__VqwnuC-yUH"
      }
    },
    {
      "cell_type": "code",
      "source": [
        "MS_A = SS_A/1 # k-1 степеней свободы, k = 2\n",
        "MS_B = SS_B/2 # m-1 степеней свободы, m = 3\n",
        "MS_AB = SS_AB/(1*2) # (k-1)*(m-1) степеней свободы\n",
        "MS_R = SS_R/(len(Y) - 2*3) # (n - k*m) степеней свободы"
      ],
      "metadata": {
        "id": "5KWqT3Z4--3N"
      },
      "execution_count": null,
      "outputs": []
    },
    {
      "cell_type": "markdown",
      "source": [
        "Найдём соответствующие статистики Фишера."
      ],
      "metadata": {
        "id": "ocgZZPNIAKG1"
      }
    },
    {
      "cell_type": "code",
      "source": [
        "F_A = MS_A/MS_R\n",
        "F_B = MS_B/MS_R\n",
        "F_AB = MS_AB/MS_R\n",
        "\n",
        "print(f'F-статистика, соответствующая эффекту фактора A: {F_A}')\n",
        "print(f'F-статистика, соответствующая эффекту фактора B: {F_B}')\n",
        "print(f'F-статистика, соответствующая эффекту взаимодействия факторов A и B: {F_AB}')"
      ],
      "metadata": {
        "colab": {
          "base_uri": "https://localhost:8080/"
        },
        "id": "fUTGTZBLAn0j",
        "outputId": "7b1d6d05-99c1-41e5-ac2b-b8fa96e5f207"
      },
      "execution_count": null,
      "outputs": [
        {
          "output_type": "stream",
          "name": "stdout",
          "text": [
            "F-статистика, соответствующая эффекту фактора A: 0.5943454368086307\n",
            "F-статистика, соответствующая эффекту фактора B: 11.31028813096684\n",
            "F-статистика, соответствующая эффекту взаимодействия факторов A и B: 13.003752698870631\n"
          ]
        }
      ]
    },
    {
      "cell_type": "markdown",
      "source": [
        "$$\n",
        "\\text{Для эффекта фактора A: } α_{набл} = 0,449\n",
        "$$\n",
        "$$\n",
        "\\text{Для эффекта фактора B: } α_{набл} = 0,00046\n",
        "$$\n",
        "$$\n",
        "\\text{Для эффекта взаимодействия факторов A и B: } α_{набл} = 0,00046\n",
        "$$"
      ],
      "metadata": {
        "id": "2ajRB7wPbZYu"
      }
    },
    {
      "cell_type": "markdown",
      "source": [
        "Таким образом, при уровне значимости α = 0.05, эффект фактора A признаётся не значимым, в то время как эффекты фактора B и взаимодействия факторов A и B признаются значимыми."
      ],
      "metadata": {
        "id": "RZYg79lheAMr"
      }
    },
    {
      "cell_type": "markdown",
      "source": [
        "Проведём анализ значимости попарных различий средних значений отклика для различных уровней фактора B и взаимодействия факторов A и B."
      ],
      "metadata": {
        "id": "dZ0Ai4Yje3jL"
      }
    },
    {
      "cell_type": "markdown",
      "source": [
        "**Метод множественных сравнений Шеффе**\n",
        "\n",
        "Для проверки гипотезы равенства средних используется статистика:\n",
        "\n",
        "$$F = \\frac{\\left( \\overline{y}_i - \\overline{y}_j \\right)^2}{v_1 \\, MS_R (1/n_i + 1/n_j)},$$\n",
        "\n",
        "где:\n",
        "- $MS_R$ – оценка внутригрупповой (остаточной) дисперсии, полученная в ходе дисперсионного анализа\n",
        "- $\\overline{y}_i$, $\\overline{y}_j$ – выборочные средние для групп $i$ и $j$\n",
        "- $n_i$, $n_j$ – размеры групп $i$ и $j$\n",
        "- $v_1$ – число степеней свободы для фактора\n",
        "\n",
        "Если наблюдаемое значение статистики $F_{\\text{набл}} \\geq F_{\\text{кр}}$, то гипотеза о равенстве средних отвергается."
      ],
      "metadata": {
        "id": "z_9dhNoqfVUR"
      }
    },
    {
      "cell_type": "code",
      "source": [
        "# Функция для подсчёта среднего группы\n",
        "def group_mean(group_num, col, Y):\n",
        "  group_sum = 0\n",
        "  n = len(col)\n",
        "  counter = 0\n",
        "  for i in range(n):\n",
        "    if col[i] == group_num:\n",
        "      group_sum += Y[i]\n",
        "      counter += 1\n",
        "  return (group_sum/counter, counter)"
      ],
      "metadata": {
        "id": "EwvujLxAiue4"
      },
      "execution_count": null,
      "outputs": []
    },
    {
      "cell_type": "markdown",
      "source": [
        "Для эффекта фактора B:\n",
        "$$\n",
        "\\text{При } \\alpha = 0.05\n",
        "$$\n",
        "\n",
        "$$\n",
        "F_{\\text{крит}} = 3{,}4668\n",
        "$$"
      ],
      "metadata": {
        "id": "tJXVlw-EDE65"
      }
    },
    {
      "cell_type": "code",
      "source": [
        "# Проведём сравнение средних для уровней фактора B\n",
        "\n",
        "# Массив кортежей средних значений для уровней фактора B и размеров групп\n",
        "B_means_num = [group_mean(i, B, Y) for i in range(1, 4)]\n",
        "\n",
        "F_B_12 = (B_means_num[0][0] - B_means_num[1][0])**2/(2*MS_R*(1/B_means_num[0][1] + 1/B_means_num[1][1]))\n",
        "F_B_13 = (B_means_num[0][0] - B_means_num[2][0])**2/(2*MS_R*(1/B_means_num[0][1] + 1/B_means_num[2][1]))\n",
        "F_B_23 = (B_means_num[1][0] - B_means_num[2][0])**2/(2*MS_R*(1/B_means_num[1][1] + 1/B_means_num[2][1]))\n",
        "\n",
        "print(f'F-статистика для 1 и 2 групп: {F_B_12}')\n",
        "print(f'F-статистика для 1 и 3 групп: {F_B_13}')\n",
        "print(f'F-статистика для 2 и 3 групп: {F_B_23}')"
      ],
      "metadata": {
        "colab": {
          "base_uri": "https://localhost:8080/"
        },
        "id": "UZtCQ_-hD5c5",
        "outputId": "d3527ab5-a124-4269-b701-8492f1a940c0"
      },
      "execution_count": null,
      "outputs": [
        {
          "output_type": "stream",
          "name": "stdout",
          "text": [
            "F-статистика для 1 и 2 групп: 0.03818172165096064\n",
            "F-статистика для 1 и 3 групп: 9.335098181307055\n",
            "F-статистика для 2 и 3 групп: 6.951879020267155\n"
          ]
        }
      ]
    },
    {
      "cell_type": "markdown",
      "source": [
        "Таким образом, различия между средними значениями отклика 1-й и 2-й групп фактора B не значимы, среднее значение отклика 3-й группы значимо отличается от средних первых двух групп."
      ],
      "metadata": {
        "id": "5GBqrM9NGhGE"
      }
    },
    {
      "cell_type": "code",
      "source": [
        "# Функция для подсчёта среднего комбинации групп двух факторов\n",
        "def comb_group_mean(group_num_1, group_num_2, col1, col2, Y):\n",
        "  comb_group_sum = 0\n",
        "  n = len(Y)\n",
        "  counter = 0\n",
        "  for i in range(n):\n",
        "    if col1[i] == group_num_1 and col2[i] == group_num_2:\n",
        "      comb_group_sum += Y[i]\n",
        "      counter += 1\n",
        "  return (comb_group_sum/counter, counter)"
      ],
      "metadata": {
        "id": "F_6HTCZjIfnr"
      },
      "execution_count": null,
      "outputs": []
    },
    {
      "cell_type": "markdown",
      "source": [
        "Для эффекта взаимодействия факторов A и B:\n",
        "$$\n",
        "\\text{При } \\alpha = 0.05\n",
        "$$\n",
        "\n",
        "$$\n",
        "F_{\\text{крит}} = 3{,}4668\n",
        "$$"
      ],
      "metadata": {
        "id": "HOurEgBuaZIW"
      }
    },
    {
      "cell_type": "code",
      "source": [
        "# Проведём сравнение средних для комбинаций уровней факторов A и B\n",
        "\n",
        "# Массив кортежей средних значений для комбинаций уровней факторов и их размеров\n",
        "comb_means_num = [comb_group_mean(i ,j, A, B, Y) for i in range(1, 3) for j in range(1, 4)]\n",
        "\n",
        "# [(уровень фактора A, уровень фактора B)...] | между элементами comb_means_num и combs установлено взаимооднозначное соответствие\n",
        "combs = [(1, 1), (1, 2), (1, 3), (2, 1), (2, 2), (2, 3)]\n",
        "\n",
        "# Необходимо произвести 15 сравнений. Перебираем все возможные пары комбинаций уровня фактора A и уровня фактора B\n",
        "for i in range(len(comb_means_num)-1):\n",
        "  for j in range(i+1, len(comb_means_num)):\n",
        "    F_AB = (comb_means_num[i][0] - comb_means_num[j][0])**2/(2*MS_R*(1/comb_means_num[i][1] + 1/comb_means_num[j][1]))\n",
        "    print(f'F-статистика для |{combs[i][0]}_{combs[i][1]}| и |{combs[j][0]}_{combs[j][1]}|: {round(F_AB, 2)} ', '=> различие в средних значимо.' if F_AB > 3.46 else '')"
      ],
      "metadata": {
        "id": "3nK3zul7Hoox",
        "colab": {
          "base_uri": "https://localhost:8080/"
        },
        "outputId": "7c60a790-5251-48e3-c17b-bd42d729e03f"
      },
      "execution_count": null,
      "outputs": [
        {
          "output_type": "stream",
          "name": "stdout",
          "text": [
            "F-статистика для |1_1| и |1_2|: 4.4  => различие в средних значимо.\n",
            "F-статистика для |1_1| и |1_3|: 5.08  => различие в средних значимо.\n",
            "F-статистика для |1_1| и |2_1|: 1.11  \n",
            "F-статистика для |1_1| и |2_2|: 0.94  \n",
            "F-статистика для |1_1| и |2_3|: 0.38  \n",
            "F-статистика для |1_2| и |1_3|: 18.67  => различие в средних значимо.\n",
            "F-статистика для |1_2| и |2_1|: 1.5  \n",
            "F-статистика для |1_2| и |2_2|: 8.98  => различие в средних значимо.\n",
            "F-статистика для |1_2| и |2_3|: 7.61  => различие в средних значимо.\n",
            "F-статистика для |1_3| и |2_1|: 12.73  => различие в средних значимо.\n",
            "F-статистика для |1_3| и |2_2|: 1.41  \n",
            "F-статистика для |1_3| и |2_3|: 2.96  \n",
            "F-статистика для |2_1| и |2_2|: 4.31  => различие в средних значимо.\n",
            "F-статистика для |2_1| и |2_3|: 3.13  \n",
            "F-статистика для |2_2| и |2_3|: 0.17  \n"
          ]
        }
      ]
    },
    {
      "cell_type": "markdown",
      "source": [
        "Анализ различий средних значений отклика для всех возможных комбинаций уровней факторов A и B (взаимодействие A×B) показал, что из 15 возможных пар сравнений:\n",
        "- 7 пар продемонстрировали статистически значимые различия,\n",
        "- 8 пар — незначимые различия.\n",
        "\n",
        "Конкретные пары с выявленными значимыми различиями приведены в выводе выше."
      ],
      "metadata": {
        "id": "LS3jShboiXah"
      }
    },
    {
      "cell_type": "markdown",
      "source": [
        "**Вывод**\n",
        "\n",
        "В ходе данной лабораторной работы, был произведён двухфакторный дисперсионный анализ на основе линейных моделей. Было определено, что эффект фактора A не значим, в то время как эффекты фактора B и взаимодействия факторов A и B значимы.\n",
        "\n",
        "Для эффекта фактора B и взаимодействия факторов A и B был проведён анализ значимости попарных различий средних значений отклика.\n",
        "\n",
        "Для эффекта фактора B в результате:\n",
        "- различия между средними значениями отклика 1-й и 2-й групп не значимы;\n",
        "- среднее 3-й группы значимо отличается от средних первых двух групп.\n",
        "\n",
        "Анализ различий средних значений отклика для всех возможных комбинаций уровней факторов A и B (взаимодействие A×B) показал, что из 15 возможных пар сравнений:\n",
        "- 7 пар продемонстрировали статистически значимые различия;\n",
        "- 8 пар — незначимые различия.\n"
      ],
      "metadata": {
        "id": "cCNPlYk7j0Ok"
      }
    }
  ]
}